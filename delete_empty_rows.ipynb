{
  "nbformat": 4,
  "nbformat_minor": 0,
  "metadata": {
    "colab": {
      "provenance": [],
      "authorship_tag": "ABX9TyOpXOCwKGUfS78M7Xd7kJc9",
      "include_colab_link": true
    },
    "kernelspec": {
      "name": "python3",
      "display_name": "Python 3"
    },
    "language_info": {
      "name": "python"
    }
  },
  "cells": [
    {
      "cell_type": "markdown",
      "metadata": {
        "id": "view-in-github",
        "colab_type": "text"
      },
      "source": [
        "<a href=\"https://colab.research.google.com/github/fiofana/utilidades-diarias/blob/main/delete_empty_rows.ipynb\" target=\"_parent\"><img src=\"https://colab.research.google.com/assets/colab-badge.svg\" alt=\"Open In Colab\"/></a>"
      ]
    },
    {
      "cell_type": "code",
      "execution_count": null,
      "metadata": {
        "id": "5qU6HeH04KNJ"
      },
      "outputs": [],
      "source": [
        "import pandas as pd"
      ]
    },
    {
      "cell_type": "code",
      "source": [
        "planilha = pd.read_csv('')\n",
        "display(planilha.info())"
      ],
      "metadata": {
        "id": "jFldBiX44SPL"
      },
      "execution_count": null,
      "outputs": []
    },
    {
      "cell_type": "code",
      "source": [
        "planilha = planilha.dropna(how='all')\n",
        "display(planilha.info())"
      ],
      "metadata": {
        "id": "wsTaZQfj4dg3"
      },
      "execution_count": null,
      "outputs": []
    },
    {
      "cell_type": "code",
      "source": [
        "planilha.to_excel('planilha.xlsx', index=False)"
      ],
      "metadata": {
        "id": "_HNbIZ9h6B_L"
      },
      "execution_count": null,
      "outputs": []
    }
  ]
}